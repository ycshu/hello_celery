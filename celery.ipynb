{
 "metadata": {
  "name": "Untitled0"
 },
 "nbformat": 3,
 "nbformat_minor": 0,
 "worksheets": [
  {
   "cells": [
    {
     "cell_type": "markdown",
     "metadata": {},
     "source": [
      "At server, you need to install mongo database by \n",
      "\n",
      "sudo apt-get install mongodb-server\n",
      "\n",
      "Then you can start mongod server by\n",
      "\n",
      "mongod --dbpath your_database_path\n",
      "\n",
      "At client, \n",
      "\n",
      "If you don't have pip, \n",
      "\n",
      "sudo apt-get install python-pip\n",
      "\n",
      "Then you should install celery and pymongo\n",
      "\n",
      "sudo pip install celery\n",
      "\n",
      "sudo pip install pymongo\n",
      "\n",
      "celery -A tasks worker -n worker_name -l info"
     ]
    },
    {
     "cell_type": "code",
     "collapsed": false,
     "input": [
      "from tasks import app\n",
      "from tasks import add\n",
      "from tasks import prod"
     ],
     "language": "python",
     "metadata": {},
     "outputs": [],
     "prompt_number": 2
    },
    {
     "cell_type": "code",
     "collapsed": false,
     "input": [
      "r = [add.delay(100,x) for x in range(1000)]"
     ],
     "language": "python",
     "metadata": {},
     "outputs": [],
     "prompt_number": 3
    },
    {
     "cell_type": "code",
     "collapsed": false,
     "input": [
      "r[-1].result"
     ],
     "language": "python",
     "metadata": {},
     "outputs": [
      {
       "output_type": "pyout",
       "prompt_number": 4,
       "text": [
        "1099"
       ]
      }
     ],
     "prompt_number": 4
    },
    {
     "cell_type": "code",
     "collapsed": false,
     "input": [
      "r[-1].id"
     ],
     "language": "python",
     "metadata": {},
     "outputs": [
      {
       "output_type": "pyout",
       "prompt_number": 5,
       "text": [
        "'a3ff8c39-5148-4e05-bc74-412ec0266d96'"
       ]
      }
     ],
     "prompt_number": 5
    },
    {
     "cell_type": "code",
     "collapsed": false,
     "input": [
      "a = add.AsyncResult('a3ff8c39-5148-4e05-bc74-412ec0266d96')\n",
      "a.result"
     ],
     "language": "python",
     "metadata": {},
     "outputs": [
      {
       "output_type": "pyout",
       "prompt_number": 6,
       "text": [
        "1099"
       ]
      }
     ],
     "prompt_number": 6
    },
    {
     "cell_type": "code",
     "collapsed": false,
     "input": [],
     "language": "python",
     "metadata": {},
     "outputs": []
    }
   ],
   "metadata": {}
  }
 ]
}